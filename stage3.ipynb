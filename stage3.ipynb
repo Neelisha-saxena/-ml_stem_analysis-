{
 "cells": [
  {
   "cell_type": "code",
   "execution_count": 111,
   "metadata": {
    "collapsed": true
   },
   "outputs": [],
   "source": [
    "import pandas as pd\n",
    "import numpy as np"
   ]
  },
  {
   "cell_type": "code",
   "execution_count": 119,
   "metadata": {
    "collapsed": true
   },
   "outputs": [],
   "source": [
    "# we use stem_useful_feature.csv file since important feature are only present in it\n",
    "def read_file(path):\n",
    "    #if file is not csv raise assertion error of file   not in csv format\n",
    "    assert path[-3:]=='csv',\"provided file is not in  .csv  format\"\n",
    "    featured_data=pd.read_csv(path)\n",
    "    return featured_data"
   ]
  },
  {
   "cell_type": "code",
   "execution_count": 122,
   "metadata": {},
   "outputs": [],
   "source": [
    "featured_data=read_file(\"ml_stem_analysis.csv\")"
   ]
  },
  {
   "cell_type": "code",
   "execution_count": 114,
   "metadata": {},
   "outputs": [
    {
     "data": {
      "text/html": [
       "<div>\n",
       "<style>\n",
       "    .dataframe thead tr:only-child th {\n",
       "        text-align: right;\n",
       "    }\n",
       "\n",
       "    .dataframe thead th {\n",
       "        text-align: left;\n",
       "    }\n",
       "\n",
       "    .dataframe tbody tr th {\n",
       "        vertical-align: top;\n",
       "    }\n",
       "</style>\n",
       "<table border=\"1\" class=\"dataframe\">\n",
       "  <thead>\n",
       "    <tr style=\"text-align: right;\">\n",
       "      <th></th>\n",
       "      <th>Index Number</th>\n",
       "      <th>Investment Name</th>\n",
       "      <th>Agency</th>\n",
       "      <th>Subagency</th>\n",
       "      <th>A) Brief Description</th>\n",
       "      <th>B) Year Established</th>\n",
       "      <th>C1) Funding FY2008</th>\n",
       "      <th>C2) Funding FY2009</th>\n",
       "      <th>C3) Funding FY2010</th>\n",
       "      <th>D) Mission-specific or General STEM?</th>\n",
       "      <th>...</th>\n",
       "      <th>Y3) Process or Implementation Evaluation Type</th>\n",
       "      <th>Y3) Process or Implementation Evaluation Type 1</th>\n",
       "      <th>Y3) Process or Implementation Evaluation Type 2</th>\n",
       "      <th>Y4) Portfolio Evaluation/Review Type</th>\n",
       "      <th>Y4) Portfolio Evaluation/Review Type 1</th>\n",
       "      <th>Y4) Portfolio Evaluation/Review Type 2</th>\n",
       "      <th>Y5) Expert Review Type</th>\n",
       "      <th>Y5) Expert Review Type 1</th>\n",
       "      <th>Growth</th>\n",
       "      <th>target</th>\n",
       "    </tr>\n",
       "  </thead>\n",
       "  <tbody>\n",
       "    <tr>\n",
       "      <th>0</th>\n",
       "      <td>PRG_0001</td>\n",
       "      <td>Centers for Ocean Sciences Education Excellence ~</td>\n",
       "      <td>National Science Foundation</td>\n",
       "      <td>Directorate for Geosciences (GEO)</td>\n",
       "      <td>The Division of Ocean Sciences seeks to establ...</td>\n",
       "      <td>2002.0</td>\n",
       "      <td>5.24</td>\n",
       "      <td>7.19</td>\n",
       "      <td>5.7</td>\n",
       "      <td>General STEM</td>\n",
       "      <td>...</td>\n",
       "      <td>NaN</td>\n",
       "      <td>NaN</td>\n",
       "      <td>NO</td>\n",
       "      <td>INDEPENDENT</td>\n",
       "      <td>NaN</td>\n",
       "      <td>NaN</td>\n",
       "      <td>INDEPENDENT</td>\n",
       "      <td>NaN</td>\n",
       "      <td>37.21374</td>\n",
       "      <td>1</td>\n",
       "    </tr>\n",
       "  </tbody>\n",
       "</table>\n",
       "<p>1 rows × 258 columns</p>\n",
       "</div>"
      ],
      "text/plain": [
       "  Index Number                                    Investment Name  \\\n",
       "0     PRG_0001  Centers for Ocean Sciences Education Excellence ~   \n",
       "\n",
       "                        Agency                          Subagency  \\\n",
       "0  National Science Foundation  Directorate for Geosciences (GEO)   \n",
       "\n",
       "                                A) Brief Description  B) Year Established  \\\n",
       "0  The Division of Ocean Sciences seeks to establ...               2002.0   \n",
       "\n",
       "   C1) Funding FY2008  C2) Funding FY2009  C3) Funding FY2010  \\\n",
       "0                5.24                7.19                 5.7   \n",
       "\n",
       "  D) Mission-specific or General STEM?  ...    \\\n",
       "0                         General STEM  ...     \n",
       "\n",
       "  Y3) Process or Implementation Evaluation Type  \\\n",
       "0                                           NaN   \n",
       "\n",
       "  Y3) Process or Implementation Evaluation Type 1  \\\n",
       "0                                             NaN   \n",
       "\n",
       "  Y3) Process or Implementation Evaluation Type 2  \\\n",
       "0                                              NO   \n",
       "\n",
       "  Y4) Portfolio Evaluation/Review Type Y4) Portfolio Evaluation/Review Type 1  \\\n",
       "0                          INDEPENDENT                                    NaN   \n",
       "\n",
       "  Y4) Portfolio Evaluation/Review Type 2 Y5) Expert Review Type  \\\n",
       "0                                    NaN            INDEPENDENT   \n",
       "\n",
       "  Y5) Expert Review Type 1    Growth target  \n",
       "0                      NaN  37.21374      1  \n",
       "\n",
       "[1 rows x 258 columns]"
      ]
     },
     "execution_count": 114,
     "metadata": {},
     "output_type": "execute_result"
    }
   ],
   "source": [
    "featured_data.head(1)"
   ]
  },
  {
   "cell_type": "markdown",
   "metadata": {},
   "source": [
    "# Data preprocessing"
   ]
  },
  {
   "cell_type": "code",
   "execution_count": 115,
   "metadata": {
    "collapsed": true
   },
   "outputs": [],
   "source": [
    "#drop the manually added column\n",
    "def col_to_drop(data):\n",
    "    col=[ \n",
    "         'Growth',\n",
    "         \"N) STEM Discipline Focus 12\",\n",
    "          ]\n",
    "    # raise assertion error if col is not present in data for dropping\n",
    "    absent_cols = []\n",
    "    for each in col:\n",
    "        if each not in list(data.columns):\n",
    "            absent_cols.append(each)\n",
    "    \n",
    "    assert set(col) < set(data.columns)  , \"columns to drop is not contained in data: {}\".format(absent_cols)\n",
    "    \n",
    "    for each in data.columns:\n",
    "        if(len(list(data[each].value_counts())) ==252) or (len(list(data[each].value_counts())) ==251) or (len(list(data[each].value_counts())) ==1):\n",
    "            col.append(each)\n",
    "    # removing the value that have most value NaN\n",
    "    for each in data.columns:\n",
    "        if ( data[each].isnull().sum() > int(252*.6)):\n",
    "            col.append(each)\n",
    "    return col\n",
    "          \n",
    "        "
   ]
  },
  {
   "cell_type": "code",
   "execution_count": 116,
   "metadata": {},
   "outputs": [],
   "source": [
    "col_drop=col_to_drop(featured_data)\n",
    " \n",
    "\n",
    "def dropping(data,col):\n",
    "    # raise assertion error if col is not present in data for dropping\n",
    "\n",
    "    absent_cols = []\n",
    "    for each in col:\n",
    "        if each not in list(data.columns):\n",
    "            absent_cols.append(each)\n",
    "    \n",
    "    assert set(col) < set(data.columns)  , \"columns to drop is not contained in data: {}\".format(absent_cols)\n",
    "    \n",
    "   \n",
    "    data=data.drop(col,axis=1)\n",
    "    \n",
    "    return data\n",
    "\n",
    "featured_data=dropping(featured_data,col_drop)"
   ]
  },
  {
   "cell_type": "code",
   "execution_count": 117,
   "metadata": {
    "collapsed": true
   },
   "outputs": [],
   "source": [
    "#label encoding\n",
    "for col in  featured_data.columns:\n",
    "    if(featured_data[col].dtype=='object'):\n",
    "         \n",
    "        featured_data[col] = featured_data[col].astype('category')\n",
    "        featured_data[col] = featured_data[col].cat.codes\n",
    "        featured_data[col] = featured_data[col].replace(-1,np.NaN)"
   ]
  },
  {
   "cell_type": "code",
   "execution_count": 118,
   "metadata": {
    "collapsed": true
   },
   "outputs": [],
   "source": [
    " # NaN value Imputation\n",
    "featured_data = featured_data.fillna(featured_data.mean(), inplace=True)\n"
   ]
  },
  {
   "cell_type": "code",
   "execution_count": null,
   "metadata": {
    "collapsed": true
   },
   "outputs": [],
   "source": [
    " \n"
   ]
  },
  {
   "cell_type": "markdown",
   "metadata": {},
   "source": [
    "# train_test split and xgboost model"
   ]
  },
  {
   "cell_type": "code",
   "execution_count": 38,
   "metadata": {
    "collapsed": true
   },
   "outputs": [],
   "source": [
    "# baagging techniques \n",
    "Y= featured_data['target']\n",
    "X = featured_data.drop('target',axis=1)\n"
   ]
  },
  {
   "cell_type": "code",
   "execution_count": 39,
   "metadata": {},
   "outputs": [
    {
     "name": "stderr",
     "output_type": "stream",
     "text": [
      "/usr/local/lib/python3.4/dist-packages/imblearn/utils/deprecation.py:50: DeprecationWarning: 'k' is deprecated from 0.2 and will be removed in 0.4. Use 'k_neighbors' instead.\n",
      "  category=DeprecationWarning)\n",
      "/usr/local/lib/python3.4/dist-packages/imblearn/utils/deprecation.py:50: DeprecationWarning: 'm' is deprecated from 0.2 and will be removed in 0.4. Use 'm_neighbors' instead.\n",
      "  category=DeprecationWarning)\n"
     ]
    }
   ],
   "source": [
    "from imblearn.combine import SMOTETomek\n",
    "smotet = SMOTETomek(random_state=42,m=10)\n",
    "X, Y = smotet.fit_sample(X, Y)\n",
    "X= pd.DataFrame(X)\n",
    "y=pd.DataFrame(Y)\n"
   ]
  },
  {
   "cell_type": "code",
   "execution_count": 40,
   "metadata": {
    "collapsed": true
   },
   "outputs": [],
   "source": [
    "from  sklearn.model_selection import train_test_split\n",
    "X_train, X_test, y_train, y_test = train_test_split(X,Y,test_size=0.30)"
   ]
  },
  {
   "cell_type": "code",
   "execution_count": 41,
   "metadata": {},
   "outputs": [
    {
     "name": "stderr",
     "output_type": "stream",
     "text": [
      "/usr/local/lib/python3.4/dist-packages/sklearn/cross_validation.py:41: DeprecationWarning: This module was deprecated in version 0.18 in favor of the model_selection module into which all the refactored classes and functions are moved. Also note that the interface of the new CV iterators are different from that of this module. This module will be removed in 0.20.\n",
      "  \"This module will be removed in 0.20.\", DeprecationWarning)\n"
     ]
    },
    {
     "data": {
      "text/plain": [
       "0.88836937463471644"
      ]
     },
     "execution_count": 41,
     "metadata": {},
     "output_type": "execute_result"
    }
   ],
   "source": [
    "from sklearn.metrics import roc_auc_score\n",
    "\n",
    "from xgboost import XGBClassifier\n",
    "\n",
    "xgb = XGBClassifier()\n",
    "xgb.fit(X_train,y_train)\n",
    "y_pred = xgb.predict(X_test)\n",
    "roc_auc_score(y_test,y_pred)"
   ]
  },
  {
   "cell_type": "markdown",
   "metadata": {},
   "source": [
    "# hyperparameter optimisation using GridSearchCv for XGBoost\n",
    "params = {'n_estimators': [i for i in range(500,1000 ,100)],\n",
    "        'min_child_weight': [1, 5, 10],\n",
    "        'gamma': [0.5, 1, 1.5, 2, 5],\n",
    "        'subsample': [0.5, 0.8, 1.0],\n",
    "        'colsample_bytree': [0.6, 0.8, 1.0],\n",
    "        'max_depth': [3, 4, 5]\n",
    "        }\n",
    "xgb = XGBClassifier(learning_rate=0.02, n_estimators=600, objective='binary:logistic',\n",
    "                    silent=True, nthread=1)\n",
    "folds = 3\n",
    "param_comb = 5\n",
    "\n",
    "skf = StratifiedKFold(n_splits=folds, shuffle = True, random_state = 1001)\n",
    "\n",
    "random_search = GridSearchCV(xgb,  param_grid=params,  \n",
    "                             scoring='roc_auc', n_jobs=4, cv=skf.split(X_train,y_train),\n",
    "                             verbose=3\n",
    "                            )\n",
    "\n",
    "<li> timing starts from this point for \"start_time\" variable</li>\n",
    "random_search.fit(X_train, y_train)"
   ]
  },
  {
   "cell_type": "markdown",
   "metadata": {},
   "source": [
    "GridSearchCV?"
   ]
  },
  {
   "cell_type": "markdown",
   "metadata": {},
   "source": [
    "print('\\n All results:')\n",
    " \n",
    "print('\\n Best estimator:')\n",
    "print(random_search.best_estimator_)\n",
    "print('\\n Best normalized gini score for %d-fold search with %d parameter combinations:' % (folds, param_comb))\n",
    "print(random_search.best_score_ * 2 - 1)\n",
    "print('\\n Best hyperparameters:')\n",
    "print(random_search.best_params_)\n",
    "results = pd.DataFrame(random_search.cv_results_)\n",
    "results.to_csv('xgb-random-grid-search-results-01.csv', index=False)"
   ]
  },
  {
   "cell_type": "markdown",
   "metadata": {},
   "source": [
    "# Improved parameter by GridsearchCv use"
   ]
  },
  {
   "cell_type": "code",
   "execution_count": 42,
   "metadata": {
    "collapsed": true
   },
   "outputs": [],
   "source": [
    "xgb2=XGBClassifier(base_score=0.5, colsample_bylevel=1, colsample_bytree=0.6,\n",
    "       gamma=0.5, learning_rate=0.02, max_delta_step=0, max_depth=5,\n",
    "       min_child_weight=1, missing=None, n_estimators=900, nthread=1,\n",
    "       objective='binary:logistic', reg_alpha=0, reg_lambda=1,\n",
    "       scale_pos_weight=1, seed=0, silent=True, subsample=0.8)\n"
   ]
  },
  {
   "cell_type": "code",
   "execution_count": 43,
   "metadata": {},
   "outputs": [
    {
     "data": {
      "text/plain": [
       "XGBClassifier(base_score=0.5, colsample_bylevel=1, colsample_bytree=0.6,\n",
       "       gamma=0.5, learning_rate=0.02, max_delta_step=0, max_depth=5,\n",
       "       min_child_weight=1, missing=None, n_estimators=900, nthread=1,\n",
       "       objective='binary:logistic', reg_alpha=0, reg_lambda=1,\n",
       "       scale_pos_weight=1, seed=0, silent=True, subsample=0.8)"
      ]
     },
     "execution_count": 43,
     "metadata": {},
     "output_type": "execute_result"
    }
   ],
   "source": [
    "xgb2.fit(X_train,y_train)"
   ]
  },
  {
   "cell_type": "markdown",
   "metadata": {},
   "source": [
    "# roc_auc score 0.9145"
   ]
  },
  {
   "cell_type": "code",
   "execution_count": 44,
   "metadata": {},
   "outputs": [
    {
     "data": {
      "text/plain": [
       "0.91452367036820581"
      ]
     },
     "execution_count": 44,
     "metadata": {},
     "output_type": "execute_result"
    }
   ],
   "source": [
    "y_pred = xgb2.predict(X_test)\n",
    "roc_auc_score(y_test,y_pred)"
   ]
  },
  {
   "cell_type": "code",
   "execution_count": 49,
   "metadata": {},
   "outputs": [
    {
     "data": {
      "image/png": "[encoded data removed]",
      "text/plain": [
       "<matplotlib.figure.Figure at 0x7f1405c0eda0>"
      ]
     },
     "metadata": {},
     "output_type": "display_data"
    }
   ],
   "source": [
    "from sklearn.metrics import roc_curve, auc\n",
    "import matplotlib.pyplot as plt\n",
    "%matplotlib inline\n",
    "fpr, tpr, thresholds = roc_curve(y_test, y_pred, pos_label=1)\n",
    "roc_auc = auc(fpr, tpr)\n",
    "\n",
    "plt.title('Receiver Operating Characteristic')\n",
    "plt.plot(fpr, tpr, 'b', label = 'AUC = %0.2f' % roc_auc)\n",
    "plt.legend(loc = 'lower right')\n",
    "plt.plot([0, 1], [0, 1],'r--')\n",
    "plt.xlim([0, 1])\n",
    "plt.ylim([0, 1])\n",
    "plt.ylabel('True Positive Rate')\n",
    "plt.xlabel('False Positive Rate')\n",
    "plt.show()\n"
   ]
  },
  {
   "cell_type": "markdown",
   "metadata": {
    "collapsed": true
   },
   "source": [
    "# Pytest"
   ]
  },
  {
   "cell_type": "code",
   "execution_count": 123,
   "metadata": {
    "collapsed": true
   },
   "outputs": [],
   "source": [
    "def test_read():\n",
    "    read_file(\"2010 Federal STEM Education Inventory Data Set.xls\")"
   ]
  },
  {
   "cell_type": "markdown",
   "metadata": {},
   "source": [
    "### checking of assertion error for reading of file"
   ]
  },
  {
   "cell_type": "code",
   "execution_count": 139,
   "metadata": {},
   "outputs": [
    {
     "ename": "AssertionError",
     "evalue": "provided file is not in  .csv  format",
     "output_type": "error",
     "traceback": [
      "\u001b[0;31m---------------------------------------------------------------------------\u001b[0m",
      "\u001b[0;31mAssertionError\u001b[0m                            Traceback (most recent call last)",
      "\u001b[0;32m<ipython-input-139-b20d5e0c37f4>\u001b[0m in \u001b[0;36m<module>\u001b[0;34m()\u001b[0m\n\u001b[0;32m----> 1\u001b[0;31m \u001b[0mtest_read\u001b[0m\u001b[0;34m(\u001b[0m\u001b[0;34m)\u001b[0m\u001b[0;34m\u001b[0m\u001b[0m\n\u001b[0m",
      "\u001b[0;32m<ipython-input-123-bc5676f3353f>\u001b[0m in \u001b[0;36mtest_read\u001b[0;34m()\u001b[0m\n\u001b[1;32m      1\u001b[0m \u001b[0;32mdef\u001b[0m \u001b[0mtest_read\u001b[0m\u001b[0;34m(\u001b[0m\u001b[0;34m)\u001b[0m\u001b[0;34m:\u001b[0m\u001b[0;34m\u001b[0m\u001b[0m\n\u001b[0;32m----> 2\u001b[0;31m     \u001b[0mread_file\u001b[0m\u001b[0;34m(\u001b[0m\u001b[0;34m\"2010 Federal STEM Education Inventory Data Set.xls\"\u001b[0m\u001b[0;34m)\u001b[0m\u001b[0;34m\u001b[0m\u001b[0m\n\u001b[0m",
      "\u001b[0;32m<ipython-input-119-89a382fb726c>\u001b[0m in \u001b[0;36mread_file\u001b[0;34m(path)\u001b[0m\n\u001b[1;32m      2\u001b[0m \u001b[0;32mdef\u001b[0m \u001b[0mread_file\u001b[0m\u001b[0;34m(\u001b[0m\u001b[0mpath\u001b[0m\u001b[0;34m)\u001b[0m\u001b[0;34m:\u001b[0m\u001b[0;34m\u001b[0m\u001b[0m\n\u001b[1;32m      3\u001b[0m     \u001b[0;31m#if file is not csv raise assertion error of file   not in csv format\u001b[0m\u001b[0;34m\u001b[0m\u001b[0;34m\u001b[0m\u001b[0m\n\u001b[0;32m----> 4\u001b[0;31m     \u001b[0;32massert\u001b[0m \u001b[0mpath\u001b[0m\u001b[0;34m[\u001b[0m\u001b[0;34m-\u001b[0m\u001b[0;36m3\u001b[0m\u001b[0;34m:\u001b[0m\u001b[0;34m]\u001b[0m\u001b[0;34m==\u001b[0m\u001b[0;34m'csv'\u001b[0m\u001b[0;34m,\u001b[0m\u001b[0;34m\"provided file is not in  .csv  format\"\u001b[0m\u001b[0;34m\u001b[0m\u001b[0m\n\u001b[0m\u001b[1;32m      5\u001b[0m     \u001b[0mfeatured_data\u001b[0m\u001b[0;34m=\u001b[0m\u001b[0mpd\u001b[0m\u001b[0;34m.\u001b[0m\u001b[0mread_csv\u001b[0m\u001b[0;34m(\u001b[0m\u001b[0mpath\u001b[0m\u001b[0;34m)\u001b[0m\u001b[0;34m\u001b[0m\u001b[0m\n\u001b[1;32m      6\u001b[0m     \u001b[0;32mreturn\u001b[0m \u001b[0mfeatured_data\u001b[0m\u001b[0;34m\u001b[0m\u001b[0m\n",
      "\u001b[0;31mAssertionError\u001b[0m: provided file is not in  .csv  format"
     ]
    }
   ],
   "source": [
    "test_read()"
   ]
  },
  {
   "cell_type": "markdown",
   "metadata": {},
   "source": [
    "## checking of column present in data or not"
   ]
  },
  {
   "cell_type": "code",
   "execution_count": 140,
   "metadata": {
    "collapsed": true
   },
   "outputs": [],
   "source": [
    " def test_presence_col(data):\n",
    "        col=col_to_drop(data)\n",
    "        return col"
   ]
  },
  {
   "cell_type": "code",
   "execution_count": 141,
   "metadata": {
    "collapsed": true
   },
   "outputs": [],
   "source": [
    "data=pd.read_csv(\"ml_stem_analysis.csv\")"
   ]
  },
  {
   "cell_type": "code",
   "execution_count": 142,
   "metadata": {
    "collapsed": true
   },
   "outputs": [],
   "source": [
    "data.drop('Growth',inplace=True,axis=1)"
   ]
  },
  {
   "cell_type": "code",
   "execution_count": 143,
   "metadata": {},
   "outputs": [
    {
     "ename": "AssertionError",
     "evalue": "columns to drop is not contained in data: ['Growth']",
     "output_type": "error",
     "traceback": [
      "\u001b[0;31m---------------------------------------------------------------------------\u001b[0m",
      "\u001b[0;31mAssertionError\u001b[0m                            Traceback (most recent call last)",
      "\u001b[0;32m<ipython-input-143-e4f1cd1c2cf8>\u001b[0m in \u001b[0;36m<module>\u001b[0;34m()\u001b[0m\n\u001b[0;32m----> 1\u001b[0;31m \u001b[0mcol\u001b[0m\u001b[0;34m=\u001b[0m\u001b[0mtest_presence_col\u001b[0m\u001b[0;34m(\u001b[0m\u001b[0mdata\u001b[0m\u001b[0;34m)\u001b[0m\u001b[0;34m\u001b[0m\u001b[0m\n\u001b[0m",
      "\u001b[0;32m<ipython-input-140-7872c2f69a1c>\u001b[0m in \u001b[0;36mtest_presence_col\u001b[0;34m(data)\u001b[0m\n\u001b[1;32m      1\u001b[0m \u001b[0;32mdef\u001b[0m \u001b[0mtest_presence_col\u001b[0m\u001b[0;34m(\u001b[0m\u001b[0mdata\u001b[0m\u001b[0;34m)\u001b[0m\u001b[0;34m:\u001b[0m\u001b[0;34m\u001b[0m\u001b[0m\n\u001b[0;32m----> 2\u001b[0;31m        \u001b[0mcol\u001b[0m\u001b[0;34m=\u001b[0m\u001b[0mcol_to_drop\u001b[0m\u001b[0;34m(\u001b[0m\u001b[0mdata\u001b[0m\u001b[0;34m)\u001b[0m\u001b[0;34m\u001b[0m\u001b[0m\n\u001b[0m\u001b[1;32m      3\u001b[0m        \u001b[0;32mreturn\u001b[0m \u001b[0mcol\u001b[0m\u001b[0;34m\u001b[0m\u001b[0m\n",
      "\u001b[0;32m<ipython-input-115-cc8a010fb9e2>\u001b[0m in \u001b[0;36mcol_to_drop\u001b[0;34m(data)\u001b[0m\n\u001b[1;32m     10\u001b[0m             \u001b[0mabsent_cols\u001b[0m\u001b[0;34m.\u001b[0m\u001b[0mappend\u001b[0m\u001b[0;34m(\u001b[0m\u001b[0meach\u001b[0m\u001b[0;34m)\u001b[0m\u001b[0;34m\u001b[0m\u001b[0m\n\u001b[1;32m     11\u001b[0m \u001b[0;34m\u001b[0m\u001b[0m\n\u001b[0;32m---> 12\u001b[0;31m     \u001b[0;32massert\u001b[0m \u001b[0mset\u001b[0m\u001b[0;34m(\u001b[0m\u001b[0mcol\u001b[0m\u001b[0;34m)\u001b[0m \u001b[0;34m<\u001b[0m \u001b[0mset\u001b[0m\u001b[0;34m(\u001b[0m\u001b[0mdata\u001b[0m\u001b[0;34m.\u001b[0m\u001b[0mcolumns\u001b[0m\u001b[0;34m)\u001b[0m  \u001b[0;34m,\u001b[0m \u001b[0;34m\"columns to drop is not contained in data: {}\"\u001b[0m\u001b[0;34m.\u001b[0m\u001b[0mformat\u001b[0m\u001b[0;34m(\u001b[0m\u001b[0mabsent_cols\u001b[0m\u001b[0;34m)\u001b[0m\u001b[0;34m\u001b[0m\u001b[0m\n\u001b[0m\u001b[1;32m     13\u001b[0m \u001b[0;34m\u001b[0m\u001b[0m\n\u001b[1;32m     14\u001b[0m     \u001b[0;32mfor\u001b[0m \u001b[0meach\u001b[0m \u001b[0;32min\u001b[0m \u001b[0mdata\u001b[0m\u001b[0;34m.\u001b[0m\u001b[0mcolumns\u001b[0m\u001b[0;34m:\u001b[0m\u001b[0;34m\u001b[0m\u001b[0m\n",
      "\u001b[0;31mAssertionError\u001b[0m: columns to drop is not contained in data: ['Growth']"
     ]
    }
   ],
   "source": [
    "col=test_presence_col(data)"
   ]
  },
  {
   "cell_type": "markdown",
   "metadata": {},
   "source": [
    "# checking that unimportant feature to be removed from data is present or absent"
   ]
  },
  {
   "cell_type": "code",
   "execution_count": 137,
   "metadata": {
    "collapsed": true
   },
   "outputs": [],
   "source": [
    "col=col_to_drop(pd.read_csv(\"ml_stem_analysis.csv\"))"
   ]
  },
  {
   "cell_type": "code",
   "execution_count": 138,
   "metadata": {},
   "outputs": [
    {
     "ename": "AssertionError",
     "evalue": "columns to drop is not contained in data: ['Index Number', 'Investment Name', 'A) Brief Description', 'F2) Secondary Investment Objectives', 'F2) Secondary Investment Objectives 1', 'F2) Secondary Investment Objectives 2', 'F2) Secondary Investment Objectives 3', 'F2) Secondary Investment Objectives 4', 'F2) Secondary Investment Objectives 5', 'F2) Secondary Investment Objectives 6', 'F2) Secondary Investment Objectives 7', 'F2) Secondary Investment Objectives 8', 'G1) Primary Research Approaches', 'G1) Primary Research Approaches 1', 'G1) Primary Research Approaches 2', 'G1) Primary Research Approaches 3', 'G1) Primary Research Approaches 4', 'G2) Secondary Research Approaches', 'G2) Secondary Research Approaches 1', 'G2) Secondary Research Approaches 2', 'G2) Secondary Research Approaches 3', 'G2) Secondary Research Approaches 4', 'G3) Research Approaches Not Used', 'G3) Research Approaches Not Used 1', 'G3) Research Approaches Not Used 2', 'G3) Research Approaches Not Used 3', 'G3) Research Approaches Not Used 4', 'H) Educational Services or Products Produced', 'H) Educational Services or Products Produced 1', 'H) Educational Services or Products Produced 2', 'H) Educational Services or Products Produced 3', 'H) Educational Services or Products Produced 4', 'H) Educational Services or Products Produced 5', 'H) Educational Services or Products Produced 7', 'H) Educational Services or Products Produced 9', 'H) Educational Services or Products Produced 10', 'H) Educational Services or Products Produced 11', 'H) Educational Services or Products Produced 12', 'H) Educational Services or Products Produced 17', 'I1) STEM Learners Targeted? Specify. 1', 'I1) STEM Learners Targeted? Specify. 2', 'I2) Pre-service-service STEM Teachers Targeted? Specify. 1', 'I2) Pre-service-service STEM Teachers Targeted? Specify. 2', 'I2) Pre-service-service STEM Teachers Targeted? Specify. 3', 'I2) Pre-service-service STEM Teachers Targeted? Specify. 4', 'I3) In-service STEM Teachers Targeted? Specify.', 'I3) In-service STEM Teachers Targeted? Specify. 1', 'I3) In-service STEM Teachers Targeted? Specify. 2', 'I3) In-service STEM Teachers Targeted? Specify. 3', 'I3) In-service STEM Teachers Targeted? Specify. 4', 'I5) Education Researchers Targeted? ', 'I6) K-12 Staff/Administrators Targeted? Specify. 1', 'I6) K-12 Staff/Administrators Targeted? Specify. 2', 'I6) K-12 Staff/Administrators Targeted? Specify. 3', 'I6) K-12 Staff/Administrators Targeted? Specify. 4', 'I7) Post-secondary Instructors Targeted? Specify.', 'I7) Post-secondary Instructors Targeted? Specify. 1', 'I7) Post-secondary Instructors Targeted? Specify. 2', 'I7) Post-secondary Instructors Targeted? Specify. 3', 'I8) Post-secondary Staff Targeted? Specify.', 'I8) Post-secondary Staff Targeted? Specify. 3', 'I11) Other Target Group?', 'J) Focus on Underrepresented Groups in STEM 2', 'J) Focus on Underrepresented Groups in STEM 3', 'J) Focus on Underrepresented Groups in STEM 4', 'J) Focus on Underrepresented Groups in STEM 5', 'J) Focus on Underrepresented Groups in STEM 6', 'J) Focus on Underrepresented Groups in STEM 7', 'J) Focus on Underrepresented Groups in STEM 8', 'J) Focus on Underrepresented Groups in STEM 9', 'J) Focus on Underrepresented Groups in STEM 10', 'J) Focus on Underrepresented Groups in STEM 11', 'J) Focus on Underrepresented Groups in STEM 12', 'J) Focus on Underrepresented Groups in STEM 13', 'K) Eligibility Restrictions 1', 'K) Eligibility Restrictions 2', 'K) Eligibility Restrictions 3', 'L) Minority Serving Institutions 1', 'L) Minority Serving Institutions 2', 'L) Minority Serving Institutions 3', 'L) Minority Serving Institutions 4', 'L) Minority Serving Institutions 5', 'L) Minority Serving Institutions 6', 'M) Geographic Region 2', 'M) Geographic Region 3', 'M) Geographic Region 4', 'M) Geographic Region 6', 'M) Geographic Region 8', 'N) STEM Discipline Focus', 'N) STEM Discipline Focus 1', 'N) STEM Discipline Focus 2', 'N) STEM Discipline Focus 3', 'N) STEM Discipline Focus 4', 'N) STEM Discipline Focus 5', 'N) STEM Discipline Focus 6', 'N) STEM Discipline Focus 8', 'N) STEM Discipline Focus 9', 'N) STEM Discipline Focus 10', 'N) STEM Discipline Focus 11', 'O) Organization or Individual Funded', 'O) Organization or Individual Funded 1', 'O) Organization or Individual Funded 2', 'O) Organization or Individual Funded 3', 'O) Organization or Individual Funded 4', 'O) Organization or Individual Funded 5', 'O) Organization or Individual Funded 6', 'O) Organization or Individual Funded 7', 'O) Organization or Individual Funded 8', 'O) Organization or Individual Funded 9', 'O) Organization or Individual Funded 10', 'P) External Funding Allocation 1', 'P) External Funding Allocation 2', 'P) External Funding Allocation 3', 'R1) Joint Funding of Investment (with Agencies) 6', 'R1) Joint Funding of Investment (with Agencies) 8', 'R1) Joint Funding of Investment (with Agencies) 9', 'R1) Joint Funding of Investment (with Agencies) 11', 'R1) Joint Funding of Investment (with Agencies) 12', 'R2) Joint Funding of Investment (with Other) 2', 'R2) Joint Funding of Investment (with Other) 5', 'R2) Joint Funding of Investment (with Other) 7', 'R2) Joint Funding of Investment (with Other) 8', 'R2) Joint Funding of Investment (with Other) 10', 'R2) Joint Funding of Investment (with Other) 11', 'T) Partnerships with What Organization Types?', 'T) Partnerships with What Organization Types? 1', 'T) Partnerships with What Organization Types? 2', 'T) Partnerships with What Organization Types? 3', 'T) Partnerships with What Organization Types? 4', 'T) Partnerships with What Organization Types? 5', 'T) Partnerships with What Organization Types? 6', 'T) Partnerships with What Organization Types? 7', 'T) Partnerships with What Organization Types? 8', 'T) Partnerships with What Organization Types? 9', 'T) Partnerships with What Organization Types? 10', 'T) Partnerships with What Organization Types? 11', 'T) Partnerships with What Organization Types? 12', 'T) Partnerships with What Organization Types? 13', 'T) Partnerships with What Organization Types? 14', 'T) Partnerships with What Organization Types? 15', 'T) Partnerships with What Organization Types? 16', 'T) Partnerships with What Organization Types? 17', 'T) Partnerships with What Organization Types? 18', 'T) Partnerships with What Organization Types? 19', 'T) Partnerships with What Organization Types? 20', 'T) Partnerships with What Organization Types? 21', 'U) Measured Outputs 1', 'U) Measured Outputs 2', 'U) Measured Outputs 6', 'U) Measured Outputs 7', 'U) Measured Outputs 8', 'U) Measured Outputs 10', 'U) Measured Outputs 11', 'U) Measured Outputs 13', 'V) Outcomes Measured 1', 'V) Outcomes Measured 2', 'V) Outcomes Measured 3', 'V) Outcomes Measured 4', 'V) Outcomes Measured 6', 'V) Outcomes Measured 7', 'V) Outcomes Measured 8', 'V) Outcomes Measured 9', 'V) Outcomes Measured 10', 'V) Outcomes Measured 11', 'Y1) Formative Evaluation Type', 'Y1) Formative Evaluation Type 1', 'Y2) Summative Evaluation Type', 'Y2) Summative Evaluation Type 1', 'Y2) Summative Evaluation Type 2', 'Y3) Process or Implementation Evaluation Type', 'Y3) Process or Implementation Evaluation Type 1', 'Y3) Process or Implementation Evaluation Type 2', 'Y4) Portfolio Evaluation/Review Type', 'Y4) Portfolio Evaluation/Review Type 1', 'Y4) Portfolio Evaluation/Review Type 2', 'Y5) Expert Review Type', 'Y5) Expert Review Type 1', 'F2) Secondary Investment Objectives 2', 'F2) Secondary Investment Objectives 3', 'F2) Secondary Investment Objectives 4', 'F2) Secondary Investment Objectives 5', 'F2) Secondary Investment Objectives 6', 'F2) Secondary Investment Objectives 7', 'F2) Secondary Investment Objectives 8', 'F2) Secondary Investment Objectives 9', 'G1) Primary Research Approaches', 'G1) Primary Research Approaches 1', 'G1) Primary Research Approaches 2', 'G1) Primary Research Approaches 3', 'G1) Primary Research Approaches 4', 'G2) Secondary Research Approaches', 'G2) Secondary Research Approaches 1', 'G2) Secondary Research Approaches 2', 'G2) Secondary Research Approaches 3', 'G2) Secondary Research Approaches 4', 'G3) Research Approaches Not Used', 'G3) Research Approaches Not Used 1', 'G3) Research Approaches Not Used 2', 'G3) Research Approaches Not Used 3', 'G3) Research Approaches Not Used 4', 'H) Educational Services or Products Produced 3', 'H) Educational Services or Products Produced 5', 'H) Educational Services or Products Produced 6', 'H) Educational Services or Products Produced 8', 'H) Educational Services or Products Produced 11', 'H) Educational Services or Products Produced 12', 'H) Educational Services or Products Produced 13', 'H) Educational Services or Products Produced 14', 'H) Educational Services or Products Produced 15', 'H) Educational Services or Products Produced 16', 'H) Educational Services or Products Produced 17', 'H) Educational Services or Products Produced 18', 'I1) STEM Learners Targeted? Specify. 1', 'I1) STEM Learners Targeted? Specify. 2', 'I1) STEM Learners Targeted? Specify. 3', 'I1) STEM Learners Targeted? Specify. 4', 'I1) STEM Learners Targeted? Specify. 7', 'I2) Pre-service-service STEM Teachers Targeted? Specify.', 'I2) Pre-service-service STEM Teachers Targeted? Specify. 1', 'I2) Pre-service-service STEM Teachers Targeted? Specify. 2', 'I2) Pre-service-service STEM Teachers Targeted? Specify. 3', 'I2) Pre-service-service STEM Teachers Targeted? Specify. 4', 'I3) In-service STEM Teachers Targeted? Specify.', 'I3) In-service STEM Teachers Targeted? Specify. 1', 'I3) In-service STEM Teachers Targeted? Specify. 2', 'I3) In-service STEM Teachers Targeted? Specify. 3', 'I3) In-service STEM Teachers Targeted? Specify. 4', 'I4) Adult Learners Targeted?', 'I5) Education Researchers Targeted? ', 'I6) K-12 Staff/Administrators Targeted? Specify.', 'I6) K-12 Staff/Administrators Targeted? Specify. 1', 'I6) K-12 Staff/Administrators Targeted? Specify. 2', 'I6) K-12 Staff/Administrators Targeted? Specify. 3', 'I6) K-12 Staff/Administrators Targeted? Specify. 4', 'I7) Post-secondary Instructors Targeted? Specify.', 'I7) Post-secondary Instructors Targeted? Specify. 1', 'I7) Post-secondary Instructors Targeted? Specify. 2', 'I7) Post-secondary Instructors Targeted? Specify. 3', 'I8) Post-secondary Staff Targeted? Specify.', 'I8) Post-secondary Staff Targeted? Specify. 1', 'I8) Post-secondary Staff Targeted? Specify. 2', 'I8) Post-secondary Staff Targeted? Specify. 3', 'I9) Informal Stem Educators Targeted?', 'I10) Other Informal STEM Education Staff Targeted?', 'I11) Other Target Group?', 'I11) Other Target Group? 1', 'J) Focus on Underrepresented Groups in STEM 1', 'J) Focus on Underrepresented Groups in STEM 2', 'J) Focus on Underrepresented Groups in STEM 3', 'J) Focus on Underrepresented Groups in STEM 4', 'J) Focus on Underrepresented Groups in STEM 5', 'J) Focus on Underrepresented Groups in STEM 6', 'J) Focus on Underrepresented Groups in STEM 7', 'J) Focus on Underrepresented Groups in STEM 8', 'J) Focus on Underrepresented Groups in STEM 9', 'J) Focus on Underrepresented Groups in STEM 10', 'J) Focus on Underrepresented Groups in STEM 11', 'J) Focus on Underrepresented Groups in STEM 12', 'J) Focus on Underrepresented Groups in STEM 13', 'J) Focus on Underrepresented Groups in STEM 14', 'K) Eligibility Restrictions 2', 'K) Eligibility Restrictions 3', 'L) Minority Serving Institutions 1', 'L) Minority Serving Institutions 2', 'L) Minority Serving Institutions 3', 'L) Minority Serving Institutions 4', 'L) Minority Serving Institutions 5', 'L) Minority Serving Institutions 6', 'M) Geographic Region 2', 'M) Geographic Region 3', 'M) Geographic Region 4', 'M) Geographic Region 5', 'M) Geographic Region 6', 'M) Geographic Region 7', 'M) Geographic Region 8', 'M) Geographic Region 9', 'N) STEM Discipline Focus', 'N) STEM Discipline Focus 1', 'N) STEM Discipline Focus 2', 'N) STEM Discipline Focus 3', 'N) STEM Discipline Focus 4', 'N) STEM Discipline Focus 5', 'N) STEM Discipline Focus 6', 'N) STEM Discipline Focus 7', 'N) STEM Discipline Focus 8', 'N) STEM Discipline Focus 9', 'N) STEM Discipline Focus 10', 'O) Organization or Individual Funded', 'O) Organization or Individual Funded 1', 'O) Organization or Individual Funded 2', 'O) Organization or Individual Funded 3', 'O) Organization or Individual Funded 4', 'O) Organization or Individual Funded 5', 'O) Organization or Individual Funded 6', 'O) Organization or Individual Funded 7', 'O) Organization or Individual Funded 8', 'O) Organization or Individual Funded 9', 'O) Organization or Individual Funded 10', 'O) Organization or Individual Funded 11', 'P) External Funding Allocation', 'P) External Funding Allocation 1', 'P) External Funding Allocation 2', 'P) External Funding Allocation 3', 'P) External Funding Allocation 4', 'P) External Funding Allocation 5', 'R1) Joint Funding of Investment (with Agencies)', 'R1) Joint Funding of Investment (with Agencies) 1', 'R1) Joint Funding of Investment (with Agencies) 2', 'R1) Joint Funding of Investment (with Agencies) 3', 'R1) Joint Funding of Investment (with Agencies) 4', 'R1) Joint Funding of Investment (with Agencies) 5', 'R1) Joint Funding of Investment (with Agencies) 6', 'R1) Joint Funding of Investment (with Agencies) 7', 'R1) Joint Funding of Investment (with Agencies) 8', 'R1) Joint Funding of Investment (with Agencies) 9', 'R1) Joint Funding of Investment (with Agencies) 10', 'R1) Joint Funding of Investment (with Agencies) 11', 'R1) Joint Funding of Investment (with Agencies) 12', 'R2) Joint Funding of Investment (with Other)', 'R2) Joint Funding of Investment (with Other) 1', 'R2) Joint Funding of Investment (with Other) 2', 'R2) Joint Funding of Investment (with Other) 3', 'R2) Joint Funding of Investment (with Other) 4', 'R2) Joint Funding of Investment (with Other) 5', 'R2) Joint Funding of Investment (with Other) 6', 'R2) Joint Funding of Investment (with Other) 7', 'R2) Joint Funding of Investment (with Other) 8', 'R2) Joint Funding of Investment (with Other) 9', 'R2) Joint Funding of Investment (with Other) 10', 'R2) Joint Funding of Investment (with Other) 11', 'T) Partnerships with What Organization Types?', 'T) Partnerships with What Organization Types? 1', 'T) Partnerships with What Organization Types? 2', 'T) Partnerships with What Organization Types? 3', 'T) Partnerships with What Organization Types? 4', 'T) Partnerships with What Organization Types? 5', 'T) Partnerships with What Organization Types? 6', 'T) Partnerships with What Organization Types? 7', 'T) Partnerships with What Organization Types? 8', 'T) Partnerships with What Organization Types? 9', 'T) Partnerships with What Organization Types? 10', 'T) Partnerships with What Organization Types? 11', 'T) Partnerships with What Organization Types? 12', 'T) Partnerships with What Organization Types? 13', 'T) Partnerships with What Organization Types? 14', 'T) Partnerships with What Organization Types? 15', 'T) Partnerships with What Organization Types? 16', 'T) Partnerships with What Organization Types? 17', 'T) Partnerships with What Organization Types? 18', 'T) Partnerships with What Organization Types? 19', 'T) Partnerships with What Organization Types? 20', 'T) Partnerships with What Organization Types? 21', 'T) Partnerships with What Organization Types? 22', 'U) Measured Outputs 2', 'U) Measured Outputs 3', 'U) Measured Outputs 4', 'U) Measured Outputs 5', 'U) Measured Outputs 6', 'U) Measured Outputs 7', 'U) Measured Outputs 8', 'U) Measured Outputs 9', 'U) Measured Outputs 10', 'U) Measured Outputs 11', 'U) Measured Outputs 12', 'U) Measured Outputs 13', 'U) Measured Outputs 14', 'V) Outcomes Measured 1', 'V) Outcomes Measured 2', 'V) Outcomes Measured 3', 'V) Outcomes Measured 4', 'V) Outcomes Measured 5', 'V) Outcomes Measured 6', 'V) Outcomes Measured 7', 'V) Outcomes Measured 8', 'V) Outcomes Measured 9', 'V) Outcomes Measured 10', 'V) Outcomes Measured 11', 'V) Outcomes Measured 12', 'W) Measurement Instruments Used', 'W) Measurement Instruments Used 1', 'W) Measurement Instruments Used 2', 'Y1) Formative Evaluation Type', 'Y1) Formative Evaluation Type 1', 'Y1) Formative Evaluation Type 2', 'Y2) Summative Evaluation Type', 'Y2) Summative Evaluation Type 1', 'Y2) Summative Evaluation Type 2', 'Y3) Process or Implementation Evaluation Type', 'Y3) Process or Implementation Evaluation Type 1', 'Y3) Process or Implementation Evaluation Type 2', 'Y4) Portfolio Evaluation/Review Type', 'Y4) Portfolio Evaluation/Review Type 1', 'Y4) Portfolio Evaluation/Review Type 2', 'Y5) Expert Review Type', 'Y5) Expert Review Type 1']",
     "output_type": "error",
     "traceback": [
      "\u001b[0;31m---------------------------------------------------------------------------\u001b[0m",
      "\u001b[0;31mAssertionError\u001b[0m                            Traceback (most recent call last)",
      "\u001b[0;32m<ipython-input-138-cce8bfe1cc0c>\u001b[0m in \u001b[0;36m<module>\u001b[0;34m()\u001b[0m\n\u001b[0;32m----> 1\u001b[0;31m \u001b[0mdata\u001b[0m\u001b[0;34m=\u001b[0m\u001b[0mdropping\u001b[0m\u001b[0;34m(\u001b[0m\u001b[0mpd\u001b[0m\u001b[0;34m.\u001b[0m\u001b[0mread_csv\u001b[0m\u001b[0;34m(\u001b[0m\u001b[0;34m'stem_useful_feature.csv'\u001b[0m\u001b[0;34m)\u001b[0m\u001b[0;34m,\u001b[0m\u001b[0mcol\u001b[0m\u001b[0;34m)\u001b[0m\u001b[0;34m\u001b[0m\u001b[0m\n\u001b[0m",
      "\u001b[0;32m<ipython-input-116-c6e6adb491cb>\u001b[0m in \u001b[0;36mdropping\u001b[0;34m(data, col)\u001b[0m\n\u001b[1;32m      8\u001b[0m             \u001b[0mabsent_cols\u001b[0m\u001b[0;34m.\u001b[0m\u001b[0mappend\u001b[0m\u001b[0;34m(\u001b[0m\u001b[0meach\u001b[0m\u001b[0;34m)\u001b[0m\u001b[0;34m\u001b[0m\u001b[0m\n\u001b[1;32m      9\u001b[0m \u001b[0;34m\u001b[0m\u001b[0m\n\u001b[0;32m---> 10\u001b[0;31m     \u001b[0;32massert\u001b[0m \u001b[0mset\u001b[0m\u001b[0;34m(\u001b[0m\u001b[0mcol\u001b[0m\u001b[0;34m)\u001b[0m \u001b[0;34m<\u001b[0m \u001b[0mset\u001b[0m\u001b[0;34m(\u001b[0m\u001b[0mdata\u001b[0m\u001b[0;34m.\u001b[0m\u001b[0mcolumns\u001b[0m\u001b[0;34m)\u001b[0m  \u001b[0;34m,\u001b[0m \u001b[0;34m\"columns to drop is not contained in data: {}\"\u001b[0m\u001b[0;34m.\u001b[0m\u001b[0mformat\u001b[0m\u001b[0;34m(\u001b[0m\u001b[0mabsent_cols\u001b[0m\u001b[0;34m)\u001b[0m\u001b[0;34m\u001b[0m\u001b[0m\n\u001b[0m\u001b[1;32m     11\u001b[0m \u001b[0;34m\u001b[0m\u001b[0m\n\u001b[1;32m     12\u001b[0m \u001b[0;34m\u001b[0m\u001b[0m\n",
      "\u001b[0;31mAssertionError\u001b[0m: columns to drop is not contained in data: ['Index Number', 'Investment Name', 'A) Brief Description', 'F2) Secondary Investment Objectives', 'F2) Secondary Investment Objectives 1', 'F2) Secondary Investment Objectives 2', 'F2) Secondary Investment Objectives 3', 'F2) Secondary Investment Objectives 4', 'F2) Secondary Investment Objectives 5', 'F2) Secondary Investment Objectives 6', 'F2) Secondary Investment Objectives 7', 'F2) Secondary Investment Objectives 8', 'G1) Primary Research Approaches', 'G1) Primary Research Approaches 1', 'G1) Primary Research Approaches 2', 'G1) Primary Research Approaches 3', 'G1) Primary Research Approaches 4', 'G2) Secondary Research Approaches', 'G2) Secondary Research Approaches 1', 'G2) Secondary Research Approaches 2', 'G2) Secondary Research Approaches 3', 'G2) Secondary Research Approaches 4', 'G3) Research Approaches Not Used', 'G3) Research Approaches Not Used 1', 'G3) Research Approaches Not Used 2', 'G3) Research Approaches Not Used 3', 'G3) Research Approaches Not Used 4', 'H) Educational Services or Products Produced', 'H) Educational Services or Products Produced 1', 'H) Educational Services or Products Produced 2', 'H) Educational Services or Products Produced 3', 'H) Educational Services or Products Produced 4', 'H) Educational Services or Products Produced 5', 'H) Educational Services or Products Produced 7', 'H) Educational Services or Products Produced 9', 'H) Educational Services or Products Produced 10', 'H) Educational Services or Products Produced 11', 'H) Educational Services or Products Produced 12', 'H) Educational Services or Products Produced 17', 'I1) STEM Learners Targeted? Specify. 1', 'I1) STEM Learners Targeted? Specify. 2', 'I2) Pre-service-service STEM Teachers Targeted? Specify. 1', 'I2) Pre-service-service STEM Teachers Targeted? Specify. 2', 'I2) Pre-service-service STEM Teachers Targeted? Specify. 3', 'I2) Pre-service-service STEM Teachers Targeted? Specify. 4', 'I3) In-service STEM Teachers Targeted? Specify.', 'I3) In-service STEM Teachers Targeted? Specify. 1', 'I3) In-service STEM Teachers Targeted? Specify. 2', 'I3) In-service STEM Teachers Targeted? Specify. 3', 'I3) In-service STEM Teachers Targeted? Specify. 4', 'I5) Education Researchers Targeted? ', 'I6) K-12 Staff/Administrators Targeted? Specify. 1', 'I6) K-12 Staff/Administrators Targeted? Specify. 2', 'I6) K-12 Staff/Administrators Targeted? Specify. 3', 'I6) K-12 Staff/Administrators Targeted? Specify. 4', 'I7) Post-secondary Instructors Targeted? Specify.', 'I7) Post-secondary Instructors Targeted? Specify. 1', 'I7) Post-secondary Instructors Targeted? Specify. 2', 'I7) Post-secondary Instructors Targeted? Specify. 3', 'I8) Post-secondary Staff Targeted? Specify.', 'I8) Post-secondary Staff Targeted? Specify. 3', 'I11) Other Target Group?', 'J) Focus on Underrepresented Groups in STEM 2', 'J) Focus on Underrepresented Groups in STEM 3', 'J) Focus on Underrepresented Groups in STEM 4', 'J) Focus on Underrepresented Groups in STEM 5', 'J) Focus on Underrepresented Groups in STEM 6', 'J) Focus on Underrepresented Groups in STEM 7', 'J) Focus on Underrepresented Groups in STEM 8', 'J) Focus on Underrepresented Groups in STEM 9', 'J) Focus on Underrepresented Groups in STEM 10', 'J) Focus on Underrepresented Groups in STEM 11', 'J) Focus on Underrepresented Groups in STEM 12', 'J) Focus on Underrepresented Groups in STEM 13', 'K) Eligibility Restrictions 1', 'K) Eligibility Restrictions 2', 'K) Eligibility Restrictions 3', 'L) Minority Serving Institutions 1', 'L) Minority Serving Institutions 2', 'L) Minority Serving Institutions 3', 'L) Minority Serving Institutions 4', 'L) Minority Serving Institutions 5', 'L) Minority Serving Institutions 6', 'M) Geographic Region 2', 'M) Geographic Region 3', 'M) Geographic Region 4', 'M) Geographic Region 6', 'M) Geographic Region 8', 'N) STEM Discipline Focus', 'N) STEM Discipline Focus 1', 'N) STEM Discipline Focus 2', 'N) STEM Discipline Focus 3', 'N) STEM Discipline Focus 4', 'N) STEM Discipline Focus 5', 'N) STEM Discipline Focus 6', 'N) STEM Discipline Focus 8', 'N) STEM Discipline Focus 9', 'N) STEM Discipline Focus 10', 'N) STEM Discipline Focus 11', 'O) Organization or Individual Funded', 'O) Organization or Individual Funded 1', 'O) Organization or Individual Funded 2', 'O) Organization or Individual Funded 3', 'O) Organization or Individual Funded 4', 'O) Organization or Individual Funded 5', 'O) Organization or Individual Funded 6', 'O) Organization or Individual Funded 7', 'O) Organization or Individual Funded 8', 'O) Organization or Individual Funded 9', 'O) Organization or Individual Funded 10', 'P) External Funding Allocation 1', 'P) External Funding Allocation 2', 'P) External Funding Allocation 3', 'R1) Joint Funding of Investment (with Agencies) 6', 'R1) Joint Funding of Investment (with Agencies) 8', 'R1) Joint Funding of Investment (with Agencies) 9', 'R1) Joint Funding of Investment (with Agencies) 11', 'R1) Joint Funding of Investment (with Agencies) 12', 'R2) Joint Funding of Investment (with Other) 2', 'R2) Joint Funding of Investment (with Other) 5', 'R2) Joint Funding of Investment (with Other) 7', 'R2) Joint Funding of Investment (with Other) 8', 'R2) Joint Funding of Investment (with Other) 10', 'R2) Joint Funding of Investment (with Other) 11', 'T) Partnerships with What Organization Types?', 'T) Partnerships with What Organization Types? 1', 'T) Partnerships with What Organization Types? 2', 'T) Partnerships with What Organization Types? 3', 'T) Partnerships with What Organization Types? 4', 'T) Partnerships with What Organization Types? 5', 'T) Partnerships with What Organization Types? 6', 'T) Partnerships with What Organization Types? 7', 'T) Partnerships with What Organization Types? 8', 'T) Partnerships with What Organization Types? 9', 'T) Partnerships with What Organization Types? 10', 'T) Partnerships with What Organization Types? 11', 'T) Partnerships with What Organization Types? 12', 'T) Partnerships with What Organization Types? 13', 'T) Partnerships with What Organization Types? 14', 'T) Partnerships with What Organization Types? 15', 'T) Partnerships with What Organization Types? 16', 'T) Partnerships with What Organization Types? 17', 'T) Partnerships with What Organization Types? 18', 'T) Partnerships with What Organization Types? 19', 'T) Partnerships with What Organization Types? 20', 'T) Partnerships with What Organization Types? 21', 'U) Measured Outputs 1', 'U) Measured Outputs 2', 'U) Measured Outputs 6', 'U) Measured Outputs 7', 'U) Measured Outputs 8', 'U) Measured Outputs 10', 'U) Measured Outputs 11', 'U) Measured Outputs 13', 'V) Outcomes Measured 1', 'V) Outcomes Measured 2', 'V) Outcomes Measured 3', 'V) Outcomes Measured 4', 'V) Outcomes Measured 6', 'V) Outcomes Measured 7', 'V) Outcomes Measured 8', 'V) Outcomes Measured 9', 'V) Outcomes Measured 10', 'V) Outcomes Measured 11', 'Y1) Formative Evaluation Type', 'Y1) Formative Evaluation Type 1', 'Y2) Summative Evaluation Type', 'Y2) Summative Evaluation Type 1', 'Y2) Summative Evaluation Type 2', 'Y3) Process or Implementation Evaluation Type', 'Y3) Process or Implementation Evaluation Type 1', 'Y3) Process or Implementation Evaluation Type 2', 'Y4) Portfolio Evaluation/Review Type', 'Y4) Portfolio Evaluation/Review Type 1', 'Y4) Portfolio Evaluation/Review Type 2', 'Y5) Expert Review Type', 'Y5) Expert Review Type 1', 'F2) Secondary Investment Objectives 2', 'F2) Secondary Investment Objectives 3', 'F2) Secondary Investment Objectives 4', 'F2) Secondary Investment Objectives 5', 'F2) Secondary Investment Objectives 6', 'F2) Secondary Investment Objectives 7', 'F2) Secondary Investment Objectives 8', 'F2) Secondary Investment Objectives 9', 'G1) Primary Research Approaches', 'G1) Primary Research Approaches 1', 'G1) Primary Research Approaches 2', 'G1) Primary Research Approaches 3', 'G1) Primary Research Approaches 4', 'G2) Secondary Research Approaches', 'G2) Secondary Research Approaches 1', 'G2) Secondary Research Approaches 2', 'G2) Secondary Research Approaches 3', 'G2) Secondary Research Approaches 4', 'G3) Research Approaches Not Used', 'G3) Research Approaches Not Used 1', 'G3) Research Approaches Not Used 2', 'G3) Research Approaches Not Used 3', 'G3) Research Approaches Not Used 4', 'H) Educational Services or Products Produced 3', 'H) Educational Services or Products Produced 5', 'H) Educational Services or Products Produced 6', 'H) Educational Services or Products Produced 8', 'H) Educational Services or Products Produced 11', 'H) Educational Services or Products Produced 12', 'H) Educational Services or Products Produced 13', 'H) Educational Services or Products Produced 14', 'H) Educational Services or Products Produced 15', 'H) Educational Services or Products Produced 16', 'H) Educational Services or Products Produced 17', 'H) Educational Services or Products Produced 18', 'I1) STEM Learners Targeted? Specify. 1', 'I1) STEM Learners Targeted? Specify. 2', 'I1) STEM Learners Targeted? Specify. 3', 'I1) STEM Learners Targeted? Specify. 4', 'I1) STEM Learners Targeted? Specify. 7', 'I2) Pre-service-service STEM Teachers Targeted? Specify.', 'I2) Pre-service-service STEM Teachers Targeted? Specify. 1', 'I2) Pre-service-service STEM Teachers Targeted? Specify. 2', 'I2) Pre-service-service STEM Teachers Targeted? Specify. 3', 'I2) Pre-service-service STEM Teachers Targeted? Specify. 4', 'I3) In-service STEM Teachers Targeted? Specify.', 'I3) In-service STEM Teachers Targeted? Specify. 1', 'I3) In-service STEM Teachers Targeted? Specify. 2', 'I3) In-service STEM Teachers Targeted? Specify. 3', 'I3) In-service STEM Teachers Targeted? Specify. 4', 'I4) Adult Learners Targeted?', 'I5) Education Researchers Targeted? ', 'I6) K-12 Staff/Administrators Targeted? Specify.', 'I6) K-12 Staff/Administrators Targeted? Specify. 1', 'I6) K-12 Staff/Administrators Targeted? Specify. 2', 'I6) K-12 Staff/Administrators Targeted? Specify. 3', 'I6) K-12 Staff/Administrators Targeted? Specify. 4', 'I7) Post-secondary Instructors Targeted? Specify.', 'I7) Post-secondary Instructors Targeted? Specify. 1', 'I7) Post-secondary Instructors Targeted? Specify. 2', 'I7) Post-secondary Instructors Targeted? Specify. 3', 'I8) Post-secondary Staff Targeted? Specify.', 'I8) Post-secondary Staff Targeted? Specify. 1', 'I8) Post-secondary Staff Targeted? Specify. 2', 'I8) Post-secondary Staff Targeted? Specify. 3', 'I9) Informal Stem Educators Targeted?', 'I10) Other Informal STEM Education Staff Targeted?', 'I11) Other Target Group?', 'I11) Other Target Group? 1', 'J) Focus on Underrepresented Groups in STEM 1', 'J) Focus on Underrepresented Groups in STEM 2', 'J) Focus on Underrepresented Groups in STEM 3', 'J) Focus on Underrepresented Groups in STEM 4', 'J) Focus on Underrepresented Groups in STEM 5', 'J) Focus on Underrepresented Groups in STEM 6', 'J) Focus on Underrepresented Groups in STEM 7', 'J) Focus on Underrepresented Groups in STEM 8', 'J) Focus on Underrepresented Groups in STEM 9', 'J) Focus on Underrepresented Groups in STEM 10', 'J) Focus on Underrepresented Groups in STEM 11', 'J) Focus on Underrepresented Groups in STEM 12', 'J) Focus on Underrepresented Groups in STEM 13', 'J) Focus on Underrepresented Groups in STEM 14', 'K) Eligibility Restrictions 2', 'K) Eligibility Restrictions 3', 'L) Minority Serving Institutions 1', 'L) Minority Serving Institutions 2', 'L) Minority Serving Institutions 3', 'L) Minority Serving Institutions 4', 'L) Minority Serving Institutions 5', 'L) Minority Serving Institutions 6', 'M) Geographic Region 2', 'M) Geographic Region 3', 'M) Geographic Region 4', 'M) Geographic Region 5', 'M) Geographic Region 6', 'M) Geographic Region 7', 'M) Geographic Region 8', 'M) Geographic Region 9', 'N) STEM Discipline Focus', 'N) STEM Discipline Focus 1', 'N) STEM Discipline Focus 2', 'N) STEM Discipline Focus 3', 'N) STEM Discipline Focus 4', 'N) STEM Discipline Focus 5', 'N) STEM Discipline Focus 6', 'N) STEM Discipline Focus 7', 'N) STEM Discipline Focus 8', 'N) STEM Discipline Focus 9', 'N) STEM Discipline Focus 10', 'O) Organization or Individual Funded', 'O) Organization or Individual Funded 1', 'O) Organization or Individual Funded 2', 'O) Organization or Individual Funded 3', 'O) Organization or Individual Funded 4', 'O) Organization or Individual Funded 5', 'O) Organization or Individual Funded 6', 'O) Organization or Individual Funded 7', 'O) Organization or Individual Funded 8', 'O) Organization or Individual Funded 9', 'O) Organization or Individual Funded 10', 'O) Organization or Individual Funded 11', 'P) External Funding Allocation', 'P) External Funding Allocation 1', 'P) External Funding Allocation 2', 'P) External Funding Allocation 3', 'P) External Funding Allocation 4', 'P) External Funding Allocation 5', 'R1) Joint Funding of Investment (with Agencies)', 'R1) Joint Funding of Investment (with Agencies) 1', 'R1) Joint Funding of Investment (with Agencies) 2', 'R1) Joint Funding of Investment (with Agencies) 3', 'R1) Joint Funding of Investment (with Agencies) 4', 'R1) Joint Funding of Investment (with Agencies) 5', 'R1) Joint Funding of Investment (with Agencies) 6', 'R1) Joint Funding of Investment (with Agencies) 7', 'R1) Joint Funding of Investment (with Agencies) 8', 'R1) Joint Funding of Investment (with Agencies) 9', 'R1) Joint Funding of Investment (with Agencies) 10', 'R1) Joint Funding of Investment (with Agencies) 11', 'R1) Joint Funding of Investment (with Agencies) 12', 'R2) Joint Funding of Investment (with Other)', 'R2) Joint Funding of Investment (with Other) 1', 'R2) Joint Funding of Investment (with Other) 2', 'R2) Joint Funding of Investment (with Other) 3', 'R2) Joint Funding of Investment (with Other) 4', 'R2) Joint Funding of Investment (with Other) 5', 'R2) Joint Funding of Investment (with Other) 6', 'R2) Joint Funding of Investment (with Other) 7', 'R2) Joint Funding of Investment (with Other) 8', 'R2) Joint Funding of Investment (with Other) 9', 'R2) Joint Funding of Investment (with Other) 10', 'R2) Joint Funding of Investment (with Other) 11', 'T) Partnerships with What Organization Types?', 'T) Partnerships with What Organization Types? 1', 'T) Partnerships with What Organization Types? 2', 'T) Partnerships with What Organization Types? 3', 'T) Partnerships with What Organization Types? 4', 'T) Partnerships with What Organization Types? 5', 'T) Partnerships with What Organization Types? 6', 'T) Partnerships with What Organization Types? 7', 'T) Partnerships with What Organization Types? 8', 'T) Partnerships with What Organization Types? 9', 'T) Partnerships with What Organization Types? 10', 'T) Partnerships with What Organization Types? 11', 'T) Partnerships with What Organization Types? 12', 'T) Partnerships with What Organization Types? 13', 'T) Partnerships with What Organization Types? 14', 'T) Partnerships with What Organization Types? 15', 'T) Partnerships with What Organization Types? 16', 'T) Partnerships with What Organization Types? 17', 'T) Partnerships with What Organization Types? 18', 'T) Partnerships with What Organization Types? 19', 'T) Partnerships with What Organization Types? 20', 'T) Partnerships with What Organization Types? 21', 'T) Partnerships with What Organization Types? 22', 'U) Measured Outputs 2', 'U) Measured Outputs 3', 'U) Measured Outputs 4', 'U) Measured Outputs 5', 'U) Measured Outputs 6', 'U) Measured Outputs 7', 'U) Measured Outputs 8', 'U) Measured Outputs 9', 'U) Measured Outputs 10', 'U) Measured Outputs 11', 'U) Measured Outputs 12', 'U) Measured Outputs 13', 'U) Measured Outputs 14', 'V) Outcomes Measured 1', 'V) Outcomes Measured 2', 'V) Outcomes Measured 3', 'V) Outcomes Measured 4', 'V) Outcomes Measured 5', 'V) Outcomes Measured 6', 'V) Outcomes Measured 7', 'V) Outcomes Measured 8', 'V) Outcomes Measured 9', 'V) Outcomes Measured 10', 'V) Outcomes Measured 11', 'V) Outcomes Measured 12', 'W) Measurement Instruments Used', 'W) Measurement Instruments Used 1', 'W) Measurement Instruments Used 2', 'Y1) Formative Evaluation Type', 'Y1) Formative Evaluation Type 1', 'Y1) Formative Evaluation Type 2', 'Y2) Summative Evaluation Type', 'Y2) Summative Evaluation Type 1', 'Y2) Summative Evaluation Type 2', 'Y3) Process or Implementation Evaluation Type', 'Y3) Process or Implementation Evaluation Type 1', 'Y3) Process or Implementation Evaluation Type 2', 'Y4) Portfolio Evaluation/Review Type', 'Y4) Portfolio Evaluation/Review Type 1', 'Y4) Portfolio Evaluation/Review Type 2', 'Y5) Expert Review Type', 'Y5) Expert Review Type 1']"
     ]
    }
   ],
   "source": [
    "data=dropping(pd.read_csv('stem_useful_feature.csv'),col)"
   ]
  },
  {
   "cell_type": "code",
   "execution_count": null,
   "metadata": {
    "collapsed": true
   },
   "outputs": [],
   "source": []
  }
 ],
 "metadata": {
  "kernelspec": {
   "display_name": "Python 3",
   "language": "python",
   "name": "python3"
  },
  "language_info": {
   "codemirror_mode": {
    "name": "ipython",
    "version": 3
   },
   "file_extension": ".py",
   "mimetype": "text/x-python",
   "name": "python",
   "nbconvert_exporter": "python",
   "pygments_lexer": "ipython3",
   "version": "3.4.3"
  }
 },
 "nbformat": 4,
 "nbformat_minor": 2
}
